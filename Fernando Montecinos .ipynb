{
  "metadata": {
    "kernelspec": {
      "name": "python",
      "display_name": "Python (Pyodide)",
      "language": "python"
    },
    "language_info": {
      "codemirror_mode": {
        "name": "python",
        "version": 3
      },
      "file_extension": ".py",
      "mimetype": "text/x-python",
      "name": "python",
      "nbconvert_exporter": "python",
      "pygments_lexer": "ipython3",
      "version": "3.8"
    }
  },
  "nbformat_minor": 5,
  "nbformat": 4,
  "cells": [
    {
      "id": "98c7ae25-7129-4de7-a3bf-5d6e57290524",
      "cell_type": "markdown",
      "source": "# My Final Project: Introduction to Data Science",
      "metadata": {}
    },
    {
      "id": "af6f319c-333c-4467-8418-18648c18b90e",
      "cell_type": "markdown",
      "source": "## Introduction\n\nThis notebook will explore various key data science tools and concepts. It will present practical examples and explain how open source tools and the AWS infrastructure can facilitate the processing of large volumes of data.",
      "metadata": {}
    },
    {
      "id": "b3a7b3e8-3291-4f6e-96e1-c243a96537ed",
      "cell_type": "markdown",
      "source": "## Data Science Languages\n\nSome of the most common languages in data science are:\n\n- Python\n- R\n- SQL\n- Julia\n- Scala\n",
      "metadata": {}
    },
    {
      "id": "5c0b9601-4cd1-459d-9fab-ab38ee13b536",
      "cell_type": "markdown",
      "source": "## Data Science Libraries\n\nSome of the most popular Python libraries for data science are:\n\n- Pandas\n- Numpy\n- Matplotlib\n- Seaborn\n- SciPy\n- TensorFlow\n- Scikit-learn\n",
      "metadata": {}
    },
    {
      "id": "183f2de8-eb04-4a38-a461-8d8f3196e1e6",
      "cell_type": "markdown",
      "source": "## Data Science Tools\n\n| Tool               | Description                                      | Main Use             |\n|--------------------|--------------------------------------------------|----------------------|\n| Jupyter Notebooks   | Interactive environment for data analysis       | Data exploration     |\n| GitHub             | Platform for code management and collaboration   | Version control      |\n| Tableau            | Data visualization tool                         | Data visualization   |\n| Docker             | Platform for containers and isolated environments| Deployment           |\n",
      "metadata": {}
    },
    {
      "id": "eb671328-b3dd-4c4e-afae-23c042e41a86",
      "cell_type": "markdown",
      "source": "## Arithmetic Expressions Examples\n\nSome examples of arithmetic expressions in Python are:\n\n- Addition: `2 + 3 = 5`\n- Subtraction: `10 - 5 = 5`\n- Multiplication: `4 * 3 = 12`\n- Division: `10 / 2 = 5`\n",
      "metadata": {}
    },
    {
      "id": "ff680d98-a2b7-43fe-a72b-f4ea8fecb079",
      "cell_type": "code",
      "source": "# Arithmetic operations\naddition = 5 + 7\nmultiplication = 4 * 6\naddition, multiplication\n",
      "metadata": {
        "trusted": true
      },
      "outputs": [
        {
          "execution_count": 3,
          "output_type": "execute_result",
          "data": {
            "text/plain": "(12, 24)"
          },
          "metadata": {}
        }
      ],
      "execution_count": 3
    },
    {
      "id": "7c2490dd-8160-424f-acaf-d0cefb1e4f66",
      "cell_type": "code",
      "source": "# Convert minutes to hours\nminutes = 120\nhours = minutes / 60\nhours\n",
      "metadata": {
        "trusted": true
      },
      "outputs": [
        {
          "execution_count": 4,
          "output_type": "execute_result",
          "data": {
            "text/plain": "2.0"
          },
          "metadata": {}
        }
      ],
      "execution_count": 4
    },
    {
      "id": "6fc28afb-0123-4823-92ee-0ef890fe12de",
      "cell_type": "code",
      "source": "# List of Objectives\nobjectives = [\n    \"Learn data science tools\",\n    \"Improve programming knowledge\",\n    \"Apply data science concepts in real-world projects\"\n]\nobjectives\n",
      "metadata": {
        "trusted": true
      },
      "outputs": [
        {
          "execution_count": 5,
          "output_type": "execute_result",
          "data": {
            "text/plain": "['Learn data science tools',\n 'Improve programming knowledge',\n 'Apply data science concepts in real-world projects']"
          },
          "metadata": {}
        }
      ],
      "execution_count": 5
    },
    {
      "id": "b51df63c-d8a2-4561-a11a-43fa8b382957",
      "cell_type": "markdown",
      "source": "## Author\n\nThis notebook was created by: **Fernando Montecinos**\n",
      "metadata": {}
    },
    {
      "id": "51357874-9ca0-46ab-be1b-e78503673117",
      "cell_type": "code",
      "source": "",
      "metadata": {
        "trusted": true
      },
      "outputs": [],
      "execution_count": null
    }
  ]
}