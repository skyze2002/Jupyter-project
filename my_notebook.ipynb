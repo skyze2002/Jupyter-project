  # Mi Proyecto Jupyterlite

This is a Jupyterlite notebook created for the final project.
